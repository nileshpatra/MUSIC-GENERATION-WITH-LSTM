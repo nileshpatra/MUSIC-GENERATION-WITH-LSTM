{
 "cells": [
  {
   "cell_type": "code",
   "execution_count": 1,
   "metadata": {},
   "outputs": [
    {
     "name": "stderr",
     "output_type": "stream",
     "text": [
      "Using TensorFlow backend.\n"
     ]
    }
   ],
   "source": [
    "from music21 import converter , instrument , note , chord\n",
    "import keras\n",
    "from keras.models import Sequential\n",
    "from keras.layers import Dense , Dropout , LSTM , Activation\n",
    "from keras.utils import np_utils\n",
    "import os\n",
    "import numpy as np"
   ]
  },
  {
   "cell_type": "code",
   "execution_count": 2,
   "metadata": {
    "scrolled": true
   },
   "outputs": [
    {
     "name": "stdout",
     "output_type": "stream",
     "text": [
      "ff11_awakening_piano.mid\n",
      "Oppressed.mid\n",
      "ff6shap.mid\n",
      "Zelda_Overworld.mid\n",
      "FF3_Battle_(Piano).mid\n",
      "Rachel_Piano_tempofix.mid\n",
      "AT.mid\n",
      "8.mid\n",
      "ultros.mid\n",
      "decisive.mid\n",
      "rufus.mid\n",
      "cosmo.mid\n",
      "figaro.mid\n",
      "Rydia_pc.mid\n",
      "thoughts.mid\n",
      "Fierce_Battle_(Piano).mid\n",
      "lurk_in_dark.mid\n",
      "DOS.mid\n",
      "ahead_on_our_way_piano.mid\n",
      "great_war.mid\n",
      "relmstheme-piano.mid\n",
      "VincentPiano.mid\n",
      "costadsol.mid\n",
      "ff1battp.mid\n",
      "Still_Alive-1.mid\n",
      "Suteki_Da_Ne_(Piano_Version).mid\n",
      "bcm.mid\n",
      "Ff7-One_Winged.mid\n",
      "goldsaucer.mid\n",
      "ultimafro.mid\n",
      "dontbeafraid.mid\n",
      "OTD5YA.mid\n",
      "EyesOnMePiano.mid\n",
      "FFX_-_Ending_Theme_(Piano_Version)_-_by_Angel_FF.mid\n",
      "Cids.mid\n",
      "Ff7-Cinco.mid\n",
      "traitor.mid\n",
      "FFIX_Piano.mid\n",
      "ff4-town.mid\n",
      "Fiend_Battle_(Piano).mid\n",
      "Life_Stream.mid\n",
      "FFIII_Edgar_And_Sabin_Piano.mid\n",
      "Final_Fantasy_7_-_Judgement_Day_Piano.mid\n",
      "BlueStone_LastDungeon.mid\n",
      "Ff4-BattleLust.mid\n",
      "caitsith.mid\n",
      "fortresscondor.mid\n",
      "FFIXQuMarshP.mid\n",
      "Final_Fantasy_Matouyas_Cave_Piano.mid\n",
      "redwings.mid\n",
      "sobf.mid\n",
      "tpirtsd-piano.mid\n",
      "mining.mid\n",
      "ViviinAlexandria.mid\n",
      "Eternal_Harvest.mid\n",
      "path_of_repentance.mid\n",
      "JENOVA.mid\n",
      "ff7-mainmidi.mid\n",
      "z_aeristhemepiano.mid\n",
      "sandy.mid\n",
      "HighwindTakestotheSkies.mid\n",
      "In_Zanarkand.mid\n",
      "thenightmarebegins.mid\n",
      "0fithos.mid\n",
      "ff4pclov.mid\n",
      "FF8_Shuffle_or_boogie_pc.mid\n",
      "dayafter.mid\n",
      "Fyw_piano.mid\n",
      "ff8-lfp.mid\n",
      "FF3_Third_Phase_Final_(Piano).mid\n",
      "tifap.mid\n",
      "ff4_piano_collections-main_theme.mid\n",
      "ff7themep.mid\n",
      "ff4-airship.mid\n",
      "FFVII_BATTLE.mid\n",
      "Ff7-Jenova_Absolute.mid\n",
      "sera_.mid\n",
      "FF4.mid\n",
      "Kingdom_Hearts_Dearly_Beloved.mid\n",
      "gerudo.mid\n",
      "balamb.mid\n",
      "Kingdom_Hearts_Traverse_Town.mid\n",
      "Gold_Silver_Rival_Battle.mid\n",
      "FF6epitaph_piano.mid\n",
      "pkelite4.mid\n",
      "electric_de_chocobo.mid\n",
      "braska.mid\n",
      "ff4-fight1.mid\n",
      "roseofmay-piano.mid\n"
     ]
    }
   ],
   "source": [
    "directory = os.path.dirname(os.path.abspath('__file__')) + '/midi_songs/'\n",
    "notes = []\n",
    "for file in os.listdir(directory):\n",
    "    if '.mid' in file:\n",
    "        print(file)\n",
    "        midi = converter.parse(directory + '/' + file)\n",
    "        notes_to_parse = None\n",
    "        \n",
    "        parts = instrument.partitionByInstrument(midi)\n",
    "        \n",
    "        if parts:\n",
    "            notes_to_parse = parts.parts[0].recurse()\n",
    "        else:\n",
    "            notes_to_parse = midi.flat.notes\n",
    "            \n",
    "        for element in notes_to_parse:\n",
    "            if isinstance(element , note.Note):\n",
    "                notes.append(str(element.pitch))\n",
    "            elif isinstance(element, chord.Chord):\n",
    "                notes.append('.'.join(str(n) for n in element.normalOrder))"
   ]
  },
  {
   "cell_type": "code",
   "execution_count": 3,
   "metadata": {},
   "outputs": [],
   "source": [
    "sequence_length = 100\n",
    "\n",
    "pitchnames = sorted(set(item for item in notes))\n",
    "notes_to_int = {}\n",
    "\n",
    "for number , note in enumerate(pitchnames):\n",
    "    notes_to_int[note] = number\n",
    "    \n",
    "network_input , network_output = [] , []\n",
    "for i in range(0 , len(notes) - sequence_length):\n",
    "    seq_inp = notes[i : i+sequence_length]\n",
    "    network_input.append([notes_to_int[note] for note in seq_inp])\n",
    "    network_output.append(notes_to_int[notes[i + sequence_length]])\n",
    "    \n",
    "n_vocab = len(set(notes))\n",
    "n_patterns = len(network_input)\n",
    "\n",
    "network_input = np.reshape(network_input , (n_patterns , sequence_length , 1))\n",
    "network_input = network_input/float(n_vocab)\n",
    "network_output = np_utils.to_categorical(network_output)"
   ]
  },
  {
   "cell_type": "code",
   "execution_count": 4,
   "metadata": {},
   "outputs": [
    {
     "data": {
      "text/plain": [
       "(55720, 100, 1)"
      ]
     },
     "execution_count": 4,
     "metadata": {},
     "output_type": "execute_result"
    }
   ],
   "source": [
    "network_input.shape"
   ]
  },
  {
   "cell_type": "code",
   "execution_count": 5,
   "metadata": {},
   "outputs": [
    {
     "name": "stdout",
     "output_type": "stream",
     "text": [
      "WARNING:tensorflow:From /home/nilesh/anaconda3/lib/python3.7/site-packages/tensorflow/python/framework/op_def_library.py:263: colocate_with (from tensorflow.python.framework.ops) is deprecated and will be removed in a future version.\n",
      "Instructions for updating:\n",
      "Colocations handled automatically by placer.\n",
      "WARNING:tensorflow:From /home/nilesh/anaconda3/lib/python3.7/site-packages/keras/backend/tensorflow_backend.py:3445: calling dropout (from tensorflow.python.ops.nn_ops) with keep_prob is deprecated and will be removed in a future version.\n",
      "Instructions for updating:\n",
      "Please use `rate` instead of `keep_prob`. Rate should be set to `rate = 1 - keep_prob`.\n"
     ]
    }
   ],
   "source": [
    "model = Sequential()\n",
    "model.add(LSTM(\n",
    "    64,\n",
    "    input_shape=(network_input.shape[1], network_input.shape[2]),\n",
    "    return_sequences=True\n",
    "))\n",
    "model.add(Dropout(0.3))\n",
    "model.add(LSTM(32, return_sequences=True))\n",
    "model.add(Dropout(0.3))\n",
    "model.add(LSTM(32))\n",
    "model.add(Dense(32))\n",
    "model.add(Dropout(0.3))\n",
    "model.add(Dense(n_vocab))\n",
    "model.add(Activation('softmax'))\n",
    "model.compile(loss='categorical_crossentropy', optimizer='adam')\n"
   ]
  },
  {
   "cell_type": "code",
   "execution_count": 6,
   "metadata": {},
   "outputs": [
    {
     "name": "stdout",
     "output_type": "stream",
     "text": [
      "_________________________________________________________________\n",
      "Layer (type)                 Output Shape              Param #   \n",
      "=================================================================\n",
      "lstm_1 (LSTM)                (None, 100, 64)           16896     \n",
      "_________________________________________________________________\n",
      "dropout_1 (Dropout)          (None, 100, 64)           0         \n",
      "_________________________________________________________________\n",
      "lstm_2 (LSTM)                (None, 100, 32)           12416     \n",
      "_________________________________________________________________\n",
      "dropout_2 (Dropout)          (None, 100, 32)           0         \n",
      "_________________________________________________________________\n",
      "lstm_3 (LSTM)                (None, 32)                8320      \n",
      "_________________________________________________________________\n",
      "dense_1 (Dense)              (None, 32)                1056      \n",
      "_________________________________________________________________\n",
      "dropout_3 (Dropout)          (None, 32)                0         \n",
      "_________________________________________________________________\n",
      "dense_2 (Dense)              (None, 358)               11814     \n",
      "_________________________________________________________________\n",
      "activation_1 (Activation)    (None, 358)               0         \n",
      "=================================================================\n",
      "Total params: 50,502\n",
      "Trainable params: 50,502\n",
      "Non-trainable params: 0\n",
      "_________________________________________________________________\n"
     ]
    }
   ],
   "source": [
    "model.summary()"
   ]
  },
  {
   "cell_type": "code",
   "execution_count": 7,
   "metadata": {},
   "outputs": [],
   "source": [
    "filepath = \"weights-improvement-{epoch:02d}-{loss:.4f}-bigger.hdf5\"    \n",
    "checkpoint = keras.callbacks.ModelCheckpoint(\n",
    "    filepath, monitor='loss', \n",
    "    verbose=0,        \n",
    "    save_best_only=True,        \n",
    "    mode='min'\n",
    ")    \n",
    "callbacks_list = [checkpoint] "
   ]
  },
  {
   "cell_type": "code",
   "execution_count": 8,
   "metadata": {},
   "outputs": [
    {
     "name": "stdout",
     "output_type": "stream",
     "text": [
      "WARNING:tensorflow:From /home/nilesh/anaconda3/lib/python3.7/site-packages/tensorflow/python/ops/math_ops.py:3066: to_int32 (from tensorflow.python.ops.math_ops) is deprecated and will be removed in a future version.\n",
      "Instructions for updating:\n",
      "Use tf.cast instead.\n",
      "Epoch 1/10\n",
      "55720/55720 [==============================] - 219s 4ms/step - loss: 4.7076\n",
      "Epoch 2/10\n",
      "55720/55720 [==============================] - 220s 4ms/step - loss: 4.5567\n",
      "Epoch 3/10\n",
      "55720/55720 [==============================] - 219s 4ms/step - loss: 4.5092\n",
      "Epoch 4/10\n",
      "55720/55720 [==============================] - 221s 4ms/step - loss: 4.4661\n",
      "Epoch 5/10\n",
      "55720/55720 [==============================] - 227s 4ms/step - loss: 4.4041\n",
      "Epoch 6/10\n",
      "55720/55720 [==============================] - 223s 4ms/step - loss: 4.3480\n",
      "Epoch 7/10\n",
      "55720/55720 [==============================] - 220s 4ms/step - loss: 4.3148\n",
      "Epoch 8/10\n",
      "55720/55720 [==============================] - 224s 4ms/step - loss: 4.2886\n",
      "Epoch 9/10\n",
      "55720/55720 [==============================] - 221s 4ms/step - loss: 4.2556\n",
      "Epoch 10/10\n",
      "55720/55720 [==============================] - 226s 4ms/step - loss: 4.2664\n"
     ]
    },
    {
     "data": {
      "text/plain": [
       "<keras.callbacks.History at 0x7f6ec94bd7b8>"
      ]
     },
     "execution_count": 8,
     "metadata": {},
     "output_type": "execute_result"
    }
   ],
   "source": [
    "model.fit(network_input, network_output, epochs=10, callbacks=callbacks_list)"
   ]
  },
  {
   "cell_type": "code",
   "execution_count": 9,
   "metadata": {},
   "outputs": [],
   "source": [
    "import pickle\n",
    "filename = 'music_model.sav'\n",
    "pickle.dump(model , open(filename , 'wb'))"
   ]
  },
  {
   "cell_type": "code",
   "execution_count": 11,
   "metadata": {},
   "outputs": [],
   "source": [
    "model = Sequential()\n",
    "model.add(LSTM(\n",
    "    64,\n",
    "    input_shape=(network_input.shape[1], network_input.shape[2]),\n",
    "    return_sequences=True\n",
    "))\n",
    "model.add(Dropout(0.3))\n",
    "model.add(LSTM(32, return_sequences=True))\n",
    "model.add(Dropout(0.3))\n",
    "model.add(LSTM(32))\n",
    "model.add(Dense(32))\n",
    "model.add(Dropout(0.3))\n",
    "model.add(Dense(n_vocab))\n",
    "model.add(Activation('softmax'))\n",
    "model.compile(loss='categorical_crossentropy', optimizer='adam')\n",
    "model.load_weights('weights-improvement-09-4.2556-bigger.hdf5')"
   ]
  },
  {
   "cell_type": "code",
   "execution_count": 17,
   "metadata": {},
   "outputs": [],
   "source": [
    "start = np.random.randint(0, len(network_input)-1)\n",
    "int_to_note = dict((number, note) for number, note in enumerate(pitchnames))\n",
    "pattern = network_input[start]\n",
    "prediction_output = []\n",
    "for note_index in range(50):\n",
    "    prediction_input = np.reshape(pattern, (1, len(pattern), 1))\n",
    "    prediction_input = prediction_input / float(n_vocab)\n",
    "    prediction = model.predict(prediction_input, verbose=0)\n",
    "    index = np.argmax(prediction)\n",
    "    result = int_to_note[index]\n",
    "    prediction_output.append(result)\n",
    "    pattern = np.append(pattern , index)\n",
    "    pattern = pattern[1:len(pattern)]"
   ]
  },
  {
   "cell_type": "code",
   "execution_count": 20,
   "metadata": {},
   "outputs": [],
   "source": [
    "offset = 0\n",
    "output_notes = []\n",
    "for pattern in prediction_output:\n",
    "    if ('.' in pattern) or pattern.isdigit():\n",
    "        notes_in_chord = pattern.split('.')\n",
    "        notes = []\n",
    "        for current_note in notes_in_chord:\n",
    "            new_note = note.Note(int(current_note))\n",
    "            new_note.storedInstrument = instrument.Piano()\n",
    "            notes.append(new_note)\n",
    "        new_chord = chord.Chord(notes)\n",
    "        new_chord.offset = offset\n",
    "        output_notes.append(new_chord)\n",
    "    else:\n",
    "        new_note = note.Note(pattern)\n",
    "        new_note.offset = offset\n",
    "        new_note.storedInstrument = instrument.Piano()\n",
    "        output_notes.append(new_note)\n",
    "    offset += 0.5"
   ]
  },
  {
   "cell_type": "code",
   "execution_count": 23,
   "metadata": {},
   "outputs": [],
   "source": [
    "midi_stream = stream.Stream(output_notes)"
   ]
  },
  {
   "cell_type": "code",
   "execution_count": 24,
   "metadata": {},
   "outputs": [
    {
     "data": {
      "text/plain": [
       "'test_output.mid'"
      ]
     },
     "execution_count": 24,
     "metadata": {},
     "output_type": "execute_result"
    }
   ],
   "source": [
    "midi_stream.write('midi', fp='test_output.mid')"
   ]
  },
  {
   "cell_type": "code",
   "execution_count": 22,
   "metadata": {},
   "outputs": [],
   "source": [
    "#run it above the cell[16] . because note is overridden and stream is previously not imported\n",
    "from music21 import converter , instrument , note , chord , stream"
   ]
  }
 ],
 "metadata": {
  "kernelspec": {
   "display_name": "Python 3",
   "language": "python",
   "name": "python3"
  },
  "language_info": {
   "codemirror_mode": {
    "name": "ipython",
    "version": 3
   },
   "file_extension": ".py",
   "mimetype": "text/x-python",
   "name": "python",
   "nbconvert_exporter": "python",
   "pygments_lexer": "ipython3",
   "version": "3.7.1"
  }
 },
 "nbformat": 4,
 "nbformat_minor": 2
}
